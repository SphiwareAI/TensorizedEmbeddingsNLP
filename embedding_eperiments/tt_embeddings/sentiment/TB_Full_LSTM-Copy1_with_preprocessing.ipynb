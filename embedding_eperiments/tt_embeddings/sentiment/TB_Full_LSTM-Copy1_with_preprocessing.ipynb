{
 "cells": [
  {
   "cell_type": "code",
   "execution_count": 1,
   "metadata": {},
   "outputs": [],
   "source": [
    "import pandas as pd\n",
    "import os\n",
    "import pandas as pd\n",
    "import numpy as np\n",
    "from sklearn.preprocessing import LabelEncoder"
   ]
  },
  {
   "cell_type": "code",
   "execution_count": 2,
   "metadata": {},
   "outputs": [],
   "source": [
    "#data = pd.read_csv(\"/home/mashjunior/Downloads/data.npy\")"
   ]
  },
  {
   "cell_type": "code",
   "execution_count": 3,
   "metadata": {},
   "outputs": [],
   "source": [
    "path = \"/home/mashjunior/Downloads/Pcam_data/random_split/random_split/\"\n",
    "def read_data(partition , data_path=path):\n",
    "    data = []\n",
    "    for fn in os.listdir(os.path.join(data_path, partition)):\n",
    "        with open(os.path.join(data_path, partition, fn)) as f:\n",
    "            \n",
    "            data.append(pd.read_csv(f, index_col=None))\n",
    "    return pd.concat(data)"
   ]
  },
  {
   "cell_type": "code",
   "execution_count": 4,
   "metadata": {},
   "outputs": [],
   "source": [
    "df_train = read_data('train')\n",
    "df_val = read_data('dev')\n",
    "df_test = read_data('test')"
   ]
  },
  {
   "cell_type": "code",
   "execution_count": 5,
   "metadata": {},
   "outputs": [
    {
     "data": {
      "text/html": [
       "<div>\n",
       "<style scoped>\n",
       "    .dataframe tbody tr th:only-of-type {\n",
       "        vertical-align: middle;\n",
       "    }\n",
       "\n",
       "    .dataframe tbody tr th {\n",
       "        vertical-align: top;\n",
       "    }\n",
       "\n",
       "    .dataframe thead th {\n",
       "        text-align: right;\n",
       "    }\n",
       "</style>\n",
       "<table border=\"1\" class=\"dataframe\">\n",
       "  <thead>\n",
       "    <tr style=\"text-align: right;\">\n",
       "      <th></th>\n",
       "      <th>family_id</th>\n",
       "      <th>sequence_name</th>\n",
       "      <th>family_accession</th>\n",
       "      <th>aligned_sequence</th>\n",
       "      <th>sequence</th>\n",
       "    </tr>\n",
       "  </thead>\n",
       "  <tbody>\n",
       "    <tr>\n",
       "      <th>0</th>\n",
       "      <td>FeoB_C</td>\n",
       "      <td>S6C1I2_9ACTN/507-560</td>\n",
       "      <td>PF07664.12</td>\n",
       "      <td>APVFYFLGLFAII...LSCIIL.KKF.RA..FS...G.EV..APFI...</td>\n",
       "      <td>APVFYFLGLFAIILSCIILKKFRAFSGEVAPFIMELPQYHLPTVKN...</td>\n",
       "    </tr>\n",
       "    <tr>\n",
       "      <th>1</th>\n",
       "      <td>Nrap_D3</td>\n",
       "      <td>G8ZWX5_TORDC/496-668</td>\n",
       "      <td>PF17404.2</td>\n",
       "      <td>NNIKYDFI........YDIHLPATG.......KGDPESLLNSRFGP...</td>\n",
       "      <td>NNIKYDFIYDIHLPATGKGDPESLLNSRFGPMEKIKFITLENFFVN...</td>\n",
       "    </tr>\n",
       "    <tr>\n",
       "      <th>2</th>\n",
       "      <td>Docking</td>\n",
       "      <td>K0K5J3_SACES/16-41</td>\n",
       "      <td>PF08990.11</td>\n",
       "      <td>ADEDKLREYLKRAVAEAKDARDRLRE</td>\n",
       "      <td>ADEDKLREYLKRAVAEAKDARDRLRE</td>\n",
       "    </tr>\n",
       "    <tr>\n",
       "      <th>3</th>\n",
       "      <td>MurB_C</td>\n",
       "      <td>M9R2Q1_9RHOB/194-304</td>\n",
       "      <td>PF02873.16</td>\n",
       "      <td>.LEDRMAAQLAKR.DETQ........P.T.....KD......RTAG...</td>\n",
       "      <td>LEDRMAAQLAKRDETQPTKDRTAGSTFRNPVGFSSTGQADDTHDLK...</td>\n",
       "    </tr>\n",
       "    <tr>\n",
       "      <th>4</th>\n",
       "      <td>Tyr_Deacylase</td>\n",
       "      <td>DTD_LEGPH/3-144</td>\n",
       "      <td>PF02580.16</td>\n",
       "      <td>.TVLQRVKEARVDI.........................DG...QT...</td>\n",
       "      <td>TVLQRVKEARVDIDGQTVGKINHGLLILCGFEPKDSLENIKRMLDK...</td>\n",
       "    </tr>\n",
       "  </tbody>\n",
       "</table>\n",
       "</div>"
      ],
      "text/plain": [
       "       family_id         sequence_name family_accession  \\\n",
       "0         FeoB_C  S6C1I2_9ACTN/507-560       PF07664.12   \n",
       "1        Nrap_D3  G8ZWX5_TORDC/496-668        PF17404.2   \n",
       "2        Docking    K0K5J3_SACES/16-41       PF08990.11   \n",
       "3         MurB_C  M9R2Q1_9RHOB/194-304       PF02873.16   \n",
       "4  Tyr_Deacylase       DTD_LEGPH/3-144       PF02580.16   \n",
       "\n",
       "                                    aligned_sequence  \\\n",
       "0  APVFYFLGLFAII...LSCIIL.KKF.RA..FS...G.EV..APFI...   \n",
       "1  NNIKYDFI........YDIHLPATG.......KGDPESLLNSRFGP...   \n",
       "2                         ADEDKLREYLKRAVAEAKDARDRLRE   \n",
       "3  .LEDRMAAQLAKR.DETQ........P.T.....KD......RTAG...   \n",
       "4  .TVLQRVKEARVDI.........................DG...QT...   \n",
       "\n",
       "                                            sequence  \n",
       "0  APVFYFLGLFAIILSCIILKKFRAFSGEVAPFIMELPQYHLPTVKN...  \n",
       "1  NNIKYDFIYDIHLPATGKGDPESLLNSRFGPMEKIKFITLENFFVN...  \n",
       "2                         ADEDKLREYLKRAVAEAKDARDRLRE  \n",
       "3  LEDRMAAQLAKRDETQPTKDRTAGSTFRNPVGFSSTGQADDTHDLK...  \n",
       "4  TVLQRVKEARVDIDGQTVGKINHGLLILCGFEPKDSLENIKRMLDK...  "
      ]
     },
     "execution_count": 5,
     "metadata": {},
     "output_type": "execute_result"
    }
   ],
   "source": [
    "df_train.head()"
   ]
  },
  {
   "cell_type": "code",
   "execution_count": 6,
   "metadata": {},
   "outputs": [
    {
     "data": {
      "text/plain": [
       "1000"
      ]
     },
     "execution_count": 6,
     "metadata": {},
     "output_type": "execute_result"
    }
   ],
   "source": [
    "classes = df_train['family_accession'].value_counts()[:1000].index.tolist()\n",
    "len(classes)"
   ]
  },
  {
   "cell_type": "code",
   "execution_count": 7,
   "metadata": {},
   "outputs": [
    {
     "name": "stdout",
     "output_type": "stream",
     "text": [
      "Data size after considering 1000 classes for each data split:\n",
      "Train size : 50000\n",
      "Val size : 10000\n",
      "Test size : 10000\n"
     ]
    }
   ],
   "source": [
    "train_sm = df_train.loc[df_train['family_accession'].isin(classes)].reset_index()\n",
    "val_sm = df_val.loc[df_val['family_accession'].isin(classes)].reset_index()\n",
    "test_sm = df_test.loc[df_test['family_accession'].isin(classes)].reset_index()\n",
    "#if ram full try to decrease this numbers below\n",
    "train_sm = train_sm[:50000]\n",
    "val_sm = val_sm[:10000]\n",
    "test_sm = test_sm[:10000]\n",
    "\n",
    "print('Data size after considering 1000 classes for each data split:')\n",
    "print('Train size :', len(train_sm))\n",
    "print('Val size :', len(val_sm))\n",
    "print('Test size :', len(test_sm))"
   ]
  },
  {
   "cell_type": "code",
   "execution_count": null,
   "metadata": {},
   "outputs": [],
   "source": []
  },
  {
   "cell_type": "code",
   "execution_count": 8,
   "metadata": {},
   "outputs": [],
   "source": [
    "#df_classes = pd.DataFrame(classes, columns = [\"classes\"])"
   ]
  },
  {
   "cell_type": "code",
   "execution_count": null,
   "metadata": {},
   "outputs": [],
   "source": []
  },
  {
   "cell_type": "code",
   "execution_count": 9,
   "metadata": {},
   "outputs": [
    {
     "data": {
      "text/plain": [
       "((50000,), (10000,), (10000,))"
      ]
     },
     "execution_count": 9,
     "metadata": {},
     "output_type": "execute_result"
    }
   ],
   "source": [
    "le = LabelEncoder()\n",
    "\n",
    "y_train_le = le.fit_transform(train_sm['family_accession'])\n",
    "y_val_le = le.transform(val_sm['family_accession'])\n",
    "y_test_le = le.transform(test_sm['family_accession'])\n",
    "\n",
    "y_train_le.shape, y_val_le.shape, y_test_le.shape"
   ]
  },
  {
   "cell_type": "code",
   "execution_count": 10,
   "metadata": {},
   "outputs": [
    {
     "data": {
      "text/html": [
       "<div>\n",
       "<style scoped>\n",
       "    .dataframe tbody tr th:only-of-type {\n",
       "        vertical-align: middle;\n",
       "    }\n",
       "\n",
       "    .dataframe tbody tr th {\n",
       "        vertical-align: top;\n",
       "    }\n",
       "\n",
       "    .dataframe thead th {\n",
       "        text-align: right;\n",
       "    }\n",
       "</style>\n",
       "<table border=\"1\" class=\"dataframe\">\n",
       "  <thead>\n",
       "    <tr style=\"text-align: right;\">\n",
       "      <th></th>\n",
       "      <th>index</th>\n",
       "      <th>family_id</th>\n",
       "      <th>sequence_name</th>\n",
       "      <th>family_accession</th>\n",
       "      <th>aligned_sequence</th>\n",
       "      <th>sequence</th>\n",
       "    </tr>\n",
       "  </thead>\n",
       "  <tbody>\n",
       "    <tr>\n",
       "      <th>0</th>\n",
       "      <td>0</td>\n",
       "      <td>FeoB_C</td>\n",
       "      <td>S6C1I2_9ACTN/507-560</td>\n",
       "      <td>PF07664.12</td>\n",
       "      <td>APVFYFLGLFAII...LSCIIL.KKF.RA..FS...G.EV..APFI...</td>\n",
       "      <td>APVFYFLGLFAIILSCIILKKFRAFSGEVAPFIMELPQYHLPTVKN...</td>\n",
       "    </tr>\n",
       "    <tr>\n",
       "      <th>1</th>\n",
       "      <td>3</td>\n",
       "      <td>MurB_C</td>\n",
       "      <td>M9R2Q1_9RHOB/194-304</td>\n",
       "      <td>PF02873.16</td>\n",
       "      <td>.LEDRMAAQLAKR.DETQ........P.T.....KD......RTAG...</td>\n",
       "      <td>LEDRMAAQLAKRDETQPTKDRTAGSTFRNPVGFSSTGQADDTHDLK...</td>\n",
       "    </tr>\n",
       "    <tr>\n",
       "      <th>2</th>\n",
       "      <td>4</td>\n",
       "      <td>Tyr_Deacylase</td>\n",
       "      <td>DTD_LEGPH/3-144</td>\n",
       "      <td>PF02580.16</td>\n",
       "      <td>.TVLQRVKEARVDI.........................DG...QT...</td>\n",
       "      <td>TVLQRVKEARVDIDGQTVGKINHGLLILCGFEPKDSLENIKRMLDK...</td>\n",
       "    </tr>\n",
       "    <tr>\n",
       "      <th>3</th>\n",
       "      <td>8</td>\n",
       "      <td>Zn_ribbon_recom</td>\n",
       "      <td>A6LTU9_CLOB8/332-396</td>\n",
       "      <td>PF13408.6</td>\n",
       "      <td>LL..T..SK..LKCKC.......CGSS.......M...GI.........</td>\n",
       "      <td>LLTSKLKCKCCGSSMGITLGRRLNETGLCKVYYRCNLKRRSSGHLC...</td>\n",
       "    </tr>\n",
       "    <tr>\n",
       "      <th>4</th>\n",
       "      <td>13</td>\n",
       "      <td>TonB_dep_Rec</td>\n",
       "      <td>Q926C6_RHIME/253-723</td>\n",
       "      <td>PF00593.24</td>\n",
       "      <td>TWK...........PDEDTKLTVL.........GE........YSR...</td>\n",
       "      <td>TWKPDEDTKLTVLGEYSRTNSGGTATYYNDPLTGEATDIFAGNPDF...</td>\n",
       "    </tr>\n",
       "    <tr>\n",
       "      <th>...</th>\n",
       "      <td>...</td>\n",
       "      <td>...</td>\n",
       "      <td>...</td>\n",
       "      <td>...</td>\n",
       "      <td>...</td>\n",
       "      <td>...</td>\n",
       "    </tr>\n",
       "    <tr>\n",
       "      <th>49995</th>\n",
       "      <td>1776</td>\n",
       "      <td>Pept_tRNA_hydro</td>\n",
       "      <td>PTH_DESAG/6-194</td>\n",
       "      <td>PF01195.19</td>\n",
       "      <td>LIVGLGNP...GKEYENTRHNLGF....MLAD.............A...</td>\n",
       "      <td>LIVGLGNPGKEYENTRHNLGFMLADALLDEVRRTAPHAVTSLGTGK...</td>\n",
       "    </tr>\n",
       "    <tr>\n",
       "      <th>49996</th>\n",
       "      <td>1777</td>\n",
       "      <td>SecA_SW</td>\n",
       "      <td>F0QRY5_MYCSL/564-773</td>\n",
       "      <td>PF07516.13</td>\n",
       "      <td>..ESPFLSKTISSLQKRIQYSSFDTRKNLVEYSEILS...IQQDII...</td>\n",
       "      <td>ESPFLSKTISSLQKRIQYSSFDTRKNLVEYSEILSIQQDIIYKQRR...</td>\n",
       "    </tr>\n",
       "    <tr>\n",
       "      <th>49997</th>\n",
       "      <td>1780</td>\n",
       "      <td>MnhB</td>\n",
       "      <td>Q8FME0_COREF/807-931</td>\n",
       "      <td>PF04039.13</td>\n",
       "      <td>MVDVATRILFPSMIMLSVYFFFVGHNAPGGGFAGGLVAALAFALRY...</td>\n",
       "      <td>MVDVATRILFPSMIMLSVYFFFVGHNAPGGGFAGGLVAALAFALRY...</td>\n",
       "    </tr>\n",
       "    <tr>\n",
       "      <th>49998</th>\n",
       "      <td>1784</td>\n",
       "      <td>zf-UBR</td>\n",
       "      <td>E4XGT4_OIKDI/115-185</td>\n",
       "      <td>PF02207.20</td>\n",
       "      <td>ACQY.QF.KPD..........EETYRCL..D..CEIT............</td>\n",
       "      <td>ACQYQFKPDEETYRCLDCEITEDCPVLCRNCFDASEHKNHRWEMLR...</td>\n",
       "    </tr>\n",
       "    <tr>\n",
       "      <th>49999</th>\n",
       "      <td>1787</td>\n",
       "      <td>CheR_N</td>\n",
       "      <td>Q72AC1_DESVH/20-69</td>\n",
       "      <td>PF03705.15</td>\n",
       "      <td>EEFVQLRDFIYQQCGIYI..AENRKYLVENRLSNRLKDLN.LK..S...</td>\n",
       "      <td>EEFVQLRDFIYQQCGIYIAENRKYLVENRLSNRLKDLNLKSFGEYY...</td>\n",
       "    </tr>\n",
       "  </tbody>\n",
       "</table>\n",
       "<p>50000 rows × 6 columns</p>\n",
       "</div>"
      ],
      "text/plain": [
       "       index        family_id         sequence_name family_accession  \\\n",
       "0          0           FeoB_C  S6C1I2_9ACTN/507-560       PF07664.12   \n",
       "1          3           MurB_C  M9R2Q1_9RHOB/194-304       PF02873.16   \n",
       "2          4    Tyr_Deacylase       DTD_LEGPH/3-144       PF02580.16   \n",
       "3          8  Zn_ribbon_recom  A6LTU9_CLOB8/332-396        PF13408.6   \n",
       "4         13     TonB_dep_Rec  Q926C6_RHIME/253-723       PF00593.24   \n",
       "...      ...              ...                   ...              ...   \n",
       "49995   1776  Pept_tRNA_hydro       PTH_DESAG/6-194       PF01195.19   \n",
       "49996   1777          SecA_SW  F0QRY5_MYCSL/564-773       PF07516.13   \n",
       "49997   1780             MnhB  Q8FME0_COREF/807-931       PF04039.13   \n",
       "49998   1784           zf-UBR  E4XGT4_OIKDI/115-185       PF02207.20   \n",
       "49999   1787           CheR_N    Q72AC1_DESVH/20-69       PF03705.15   \n",
       "\n",
       "                                        aligned_sequence  \\\n",
       "0      APVFYFLGLFAII...LSCIIL.KKF.RA..FS...G.EV..APFI...   \n",
       "1      .LEDRMAAQLAKR.DETQ........P.T.....KD......RTAG...   \n",
       "2      .TVLQRVKEARVDI.........................DG...QT...   \n",
       "3      LL..T..SK..LKCKC.......CGSS.......M...GI.........   \n",
       "4      TWK...........PDEDTKLTVL.........GE........YSR...   \n",
       "...                                                  ...   \n",
       "49995  LIVGLGNP...GKEYENTRHNLGF....MLAD.............A...   \n",
       "49996  ..ESPFLSKTISSLQKRIQYSSFDTRKNLVEYSEILS...IQQDII...   \n",
       "49997  MVDVATRILFPSMIMLSVYFFFVGHNAPGGGFAGGLVAALAFALRY...   \n",
       "49998  ACQY.QF.KPD..........EETYRCL..D..CEIT............   \n",
       "49999  EEFVQLRDFIYQQCGIYI..AENRKYLVENRLSNRLKDLN.LK..S...   \n",
       "\n",
       "                                                sequence  \n",
       "0      APVFYFLGLFAIILSCIILKKFRAFSGEVAPFIMELPQYHLPTVKN...  \n",
       "1      LEDRMAAQLAKRDETQPTKDRTAGSTFRNPVGFSSTGQADDTHDLK...  \n",
       "2      TVLQRVKEARVDIDGQTVGKINHGLLILCGFEPKDSLENIKRMLDK...  \n",
       "3      LLTSKLKCKCCGSSMGITLGRRLNETGLCKVYYRCNLKRRSSGHLC...  \n",
       "4      TWKPDEDTKLTVLGEYSRTNSGGTATYYNDPLTGEATDIFAGNPDF...  \n",
       "...                                                  ...  \n",
       "49995  LIVGLGNPGKEYENTRHNLGFMLADALLDEVRRTAPHAVTSLGTGK...  \n",
       "49996  ESPFLSKTISSLQKRIQYSSFDTRKNLVEYSEILSIQQDIIYKQRR...  \n",
       "49997  MVDVATRILFPSMIMLSVYFFFVGHNAPGGGFAGGLVAALAFALRY...  \n",
       "49998  ACQYQFKPDEETYRCLDCEITEDCPVLCRNCFDASEHKNHRWEMLR...  \n",
       "49999  EEFVQLRDFIYQQCGIYIAENRKYLVENRLSNRLKDLNLKSFGEYY...  \n",
       "\n",
       "[50000 rows x 6 columns]"
      ]
     },
     "execution_count": 10,
     "metadata": {},
     "output_type": "execute_result"
    }
   ],
   "source": [
    "train_sm "
   ]
  },
  {
   "cell_type": "code",
   "execution_count": 11,
   "metadata": {},
   "outputs": [],
   "source": [
    "df_train_classes = pd.DataFrame(y_train_le, columns = [\"label\"])\n",
    "df_val_classes = pd.DataFrame(y_val_le, columns = [\"label\"])\n",
    "df_test_classes = pd.DataFrame(y_test_le, columns = [\"label\"])"
   ]
  },
  {
   "cell_type": "code",
   "execution_count": 12,
   "metadata": {},
   "outputs": [
    {
     "data": {
      "text/html": [
       "<div>\n",
       "<style scoped>\n",
       "    .dataframe tbody tr th:only-of-type {\n",
       "        vertical-align: middle;\n",
       "    }\n",
       "\n",
       "    .dataframe tbody tr th {\n",
       "        vertical-align: top;\n",
       "    }\n",
       "\n",
       "    .dataframe thead th {\n",
       "        text-align: right;\n",
       "    }\n",
       "</style>\n",
       "<table border=\"1\" class=\"dataframe\">\n",
       "  <thead>\n",
       "    <tr style=\"text-align: right;\">\n",
       "      <th></th>\n",
       "      <th>label</th>\n",
       "    </tr>\n",
       "  </thead>\n",
       "  <tbody>\n",
       "    <tr>\n",
       "      <th>0</th>\n",
       "      <td>701</td>\n",
       "    </tr>\n",
       "    <tr>\n",
       "      <th>1</th>\n",
       "      <td>430</td>\n",
       "    </tr>\n",
       "    <tr>\n",
       "      <th>2</th>\n",
       "      <td>374</td>\n",
       "    </tr>\n",
       "    <tr>\n",
       "      <th>3</th>\n",
       "      <td>849</td>\n",
       "    </tr>\n",
       "    <tr>\n",
       "      <th>4</th>\n",
       "      <td>104</td>\n",
       "    </tr>\n",
       "    <tr>\n",
       "      <th>...</th>\n",
       "      <td>...</td>\n",
       "    </tr>\n",
       "    <tr>\n",
       "      <th>49995</th>\n",
       "      <td>179</td>\n",
       "    </tr>\n",
       "    <tr>\n",
       "      <th>49996</th>\n",
       "      <td>693</td>\n",
       "    </tr>\n",
       "    <tr>\n",
       "      <th>49997</th>\n",
       "      <td>543</td>\n",
       "    </tr>\n",
       "    <tr>\n",
       "      <th>49998</th>\n",
       "      <td>319</td>\n",
       "    </tr>\n",
       "    <tr>\n",
       "      <th>49999</th>\n",
       "      <td>498</td>\n",
       "    </tr>\n",
       "  </tbody>\n",
       "</table>\n",
       "<p>50000 rows × 1 columns</p>\n",
       "</div>"
      ],
      "text/plain": [
       "       label\n",
       "0        701\n",
       "1        430\n",
       "2        374\n",
       "3        849\n",
       "4        104\n",
       "...      ...\n",
       "49995    179\n",
       "49996    693\n",
       "49997    543\n",
       "49998    319\n",
       "49999    498\n",
       "\n",
       "[50000 rows x 1 columns]"
      ]
     },
     "execution_count": 12,
     "metadata": {},
     "output_type": "execute_result"
    }
   ],
   "source": [
    "df_train_classes"
   ]
  },
  {
   "cell_type": "code",
   "execution_count": 13,
   "metadata": {},
   "outputs": [],
   "source": [
    "df_sequence_train = pd.concat([train_sm[\"sequence\"], df_train_classes], ignore_index=False, sort=False, axis=1)\n",
    "df_sequence_val = pd.concat([val_sm[\"sequence\"], df_val_classes], ignore_index=False, sort=False, axis=1)\n",
    "df_sequence_test = pd.concat([test_sm[\"sequence\"], df_test_classes], ignore_index=False, sort=False, axis=1)"
   ]
  },
  {
   "cell_type": "code",
   "execution_count": 14,
   "metadata": {},
   "outputs": [
    {
     "data": {
      "text/html": [
       "<div>\n",
       "<style scoped>\n",
       "    .dataframe tbody tr th:only-of-type {\n",
       "        vertical-align: middle;\n",
       "    }\n",
       "\n",
       "    .dataframe tbody tr th {\n",
       "        vertical-align: top;\n",
       "    }\n",
       "\n",
       "    .dataframe thead th {\n",
       "        text-align: right;\n",
       "    }\n",
       "</style>\n",
       "<table border=\"1\" class=\"dataframe\">\n",
       "  <thead>\n",
       "    <tr style=\"text-align: right;\">\n",
       "      <th></th>\n",
       "      <th>index</th>\n",
       "      <th>sequence</th>\n",
       "      <th>label</th>\n",
       "    </tr>\n",
       "  </thead>\n",
       "  <tbody>\n",
       "    <tr>\n",
       "      <th>0</th>\n",
       "      <td>0</td>\n",
       "      <td>AEKSHEATPERIKQARQKGDVAQSPEVLVFARYLGILVALLGFVSA...</td>\n",
       "      <td>204</td>\n",
       "    </tr>\n",
       "    <tr>\n",
       "      <th>1</th>\n",
       "      <td>1</td>\n",
       "      <td>YIVRLVFAGSTTTEPIVSSLSTAYDIKINILEANIKNTKNGTVGFL...</td>\n",
       "      <td>758</td>\n",
       "    </tr>\n",
       "    <tr>\n",
       "      <th>2</th>\n",
       "      <td>2</td>\n",
       "      <td>LQRTWALVAAAIAFYLPANLLPIMTMTSLGYVQSDTIFSGVLFLLD...</td>\n",
       "      <td>588</td>\n",
       "    </tr>\n",
       "    <tr>\n",
       "      <th>3</th>\n",
       "      <td>3</td>\n",
       "      <td>GRRKTAVASVRLRSGNGKIDINGRSLEEYFPLEIQRRTVFAPLENL...</td>\n",
       "      <td>69</td>\n",
       "    </tr>\n",
       "    <tr>\n",
       "      <th>4</th>\n",
       "      <td>4</td>\n",
       "      <td>KGLVHIYEGTGKGKSTAGVGLTIRCAGNGFPVVYSQFLKDGTTGEM...</td>\n",
       "      <td>370</td>\n",
       "    </tr>\n",
       "    <tr>\n",
       "      <th>...</th>\n",
       "      <td>...</td>\n",
       "      <td>...</td>\n",
       "      <td>...</td>\n",
       "    </tr>\n",
       "    <tr>\n",
       "      <th>9995</th>\n",
       "      <td>9995</td>\n",
       "      <td>AKCTICDFVVGEVEKYVSGNATEAQIITFLNKDCKIFG</td>\n",
       "      <td>622</td>\n",
       "    </tr>\n",
       "    <tr>\n",
       "      <th>9996</th>\n",
       "      <td>9996</td>\n",
       "      <td>EREPAKSVSNEISVAVSLDDRHDIESLIASAAHKVGRRLRKKGLEG...</td>\n",
       "      <td>797</td>\n",
       "    </tr>\n",
       "    <tr>\n",
       "      <th>9997</th>\n",
       "      <td>9997</td>\n",
       "      <td>EEDPWEAVNRPIFRFNDTLDTYALKPLAKGYQAVTPQFLEDGIHNI...</td>\n",
       "      <td>580</td>\n",
       "    </tr>\n",
       "    <tr>\n",
       "      <th>9998</th>\n",
       "      <td>9998</td>\n",
       "      <td>MAAVCGFNISVLNNVDFEGPPKRFYYVDECVAGKGVVIPNDPPVWC...</td>\n",
       "      <td>618</td>\n",
       "    </tr>\n",
       "    <tr>\n",
       "      <th>9999</th>\n",
       "      <td>9999</td>\n",
       "      <td>IDLLRERIDWTPFFNAWELRGKYPQILTESEHREEAQKLFNDANRL...</td>\n",
       "      <td>440</td>\n",
       "    </tr>\n",
       "  </tbody>\n",
       "</table>\n",
       "<p>10000 rows × 3 columns</p>\n",
       "</div>"
      ],
      "text/plain": [
       "      index                                           sequence  label\n",
       "0         0  AEKSHEATPERIKQARQKGDVAQSPEVLVFARYLGILVALLGFVSA...    204\n",
       "1         1  YIVRLVFAGSTTTEPIVSSLSTAYDIKINILEANIKNTKNGTVGFL...    758\n",
       "2         2  LQRTWALVAAAIAFYLPANLLPIMTMTSLGYVQSDTIFSGVLFLLD...    588\n",
       "3         3  GRRKTAVASVRLRSGNGKIDINGRSLEEYFPLEIQRRTVFAPLENL...     69\n",
       "4         4  KGLVHIYEGTGKGKSTAGVGLTIRCAGNGFPVVYSQFLKDGTTGEM...    370\n",
       "...     ...                                                ...    ...\n",
       "9995   9995             AKCTICDFVVGEVEKYVSGNATEAQIITFLNKDCKIFG    622\n",
       "9996   9996  EREPAKSVSNEISVAVSLDDRHDIESLIASAAHKVGRRLRKKGLEG...    797\n",
       "9997   9997  EEDPWEAVNRPIFRFNDTLDTYALKPLAKGYQAVTPQFLEDGIHNI...    580\n",
       "9998   9998  MAAVCGFNISVLNNVDFEGPPKRFYYVDECVAGKGVVIPNDPPVWC...    618\n",
       "9999   9999  IDLLRERIDWTPFFNAWELRGKYPQILTESEHREEAQKLFNDANRL...    440\n",
       "\n",
       "[10000 rows x 3 columns]"
      ]
     },
     "execution_count": 14,
     "metadata": {},
     "output_type": "execute_result"
    }
   ],
   "source": [
    "df_sequence_train.reset_index()\n",
    "df_sequence_val.reset_index()\n",
    "df_sequence_test.reset_index()"
   ]
  },
  {
   "cell_type": "code",
   "execution_count": 15,
   "metadata": {},
   "outputs": [
    {
     "data": {
      "text/html": [
       "<div>\n",
       "<style scoped>\n",
       "    .dataframe tbody tr th:only-of-type {\n",
       "        vertical-align: middle;\n",
       "    }\n",
       "\n",
       "    .dataframe tbody tr th {\n",
       "        vertical-align: top;\n",
       "    }\n",
       "\n",
       "    .dataframe thead th {\n",
       "        text-align: right;\n",
       "    }\n",
       "</style>\n",
       "<table border=\"1\" class=\"dataframe\">\n",
       "  <thead>\n",
       "    <tr style=\"text-align: right;\">\n",
       "      <th></th>\n",
       "      <th>sequence</th>\n",
       "      <th>label</th>\n",
       "    </tr>\n",
       "  </thead>\n",
       "  <tbody>\n",
       "    <tr>\n",
       "      <th>0</th>\n",
       "      <td>AEKSHEATPERIKQARQKGDVAQSPEVLVFARYLGILVALLGFVSA...</td>\n",
       "      <td>204</td>\n",
       "    </tr>\n",
       "    <tr>\n",
       "      <th>1</th>\n",
       "      <td>YIVRLVFAGSTTTEPIVSSLSTAYDIKINILEANIKNTKNGTVGFL...</td>\n",
       "      <td>758</td>\n",
       "    </tr>\n",
       "    <tr>\n",
       "      <th>2</th>\n",
       "      <td>LQRTWALVAAAIAFYLPANLLPIMTMTSLGYVQSDTIFSGVLFLLD...</td>\n",
       "      <td>588</td>\n",
       "    </tr>\n",
       "    <tr>\n",
       "      <th>3</th>\n",
       "      <td>GRRKTAVASVRLRSGNGKIDINGRSLEEYFPLEIQRRTVFAPLENL...</td>\n",
       "      <td>69</td>\n",
       "    </tr>\n",
       "    <tr>\n",
       "      <th>4</th>\n",
       "      <td>KGLVHIYEGTGKGKSTAGVGLTIRCAGNGFPVVYSQFLKDGTTGEM...</td>\n",
       "      <td>370</td>\n",
       "    </tr>\n",
       "    <tr>\n",
       "      <th>...</th>\n",
       "      <td>...</td>\n",
       "      <td>...</td>\n",
       "    </tr>\n",
       "    <tr>\n",
       "      <th>9995</th>\n",
       "      <td>AKCTICDFVVGEVEKYVSGNATEAQIITFLNKDCKIFG</td>\n",
       "      <td>622</td>\n",
       "    </tr>\n",
       "    <tr>\n",
       "      <th>9996</th>\n",
       "      <td>EREPAKSVSNEISVAVSLDDRHDIESLIASAAHKVGRRLRKKGLEG...</td>\n",
       "      <td>797</td>\n",
       "    </tr>\n",
       "    <tr>\n",
       "      <th>9997</th>\n",
       "      <td>EEDPWEAVNRPIFRFNDTLDTYALKPLAKGYQAVTPQFLEDGIHNI...</td>\n",
       "      <td>580</td>\n",
       "    </tr>\n",
       "    <tr>\n",
       "      <th>9998</th>\n",
       "      <td>MAAVCGFNISVLNNVDFEGPPKRFYYVDECVAGKGVVIPNDPPVWC...</td>\n",
       "      <td>618</td>\n",
       "    </tr>\n",
       "    <tr>\n",
       "      <th>9999</th>\n",
       "      <td>IDLLRERIDWTPFFNAWELRGKYPQILTESEHREEAQKLFNDANRL...</td>\n",
       "      <td>440</td>\n",
       "    </tr>\n",
       "  </tbody>\n",
       "</table>\n",
       "<p>10000 rows × 2 columns</p>\n",
       "</div>"
      ],
      "text/plain": [
       "                                               sequence  label\n",
       "0     AEKSHEATPERIKQARQKGDVAQSPEVLVFARYLGILVALLGFVSA...    204\n",
       "1     YIVRLVFAGSTTTEPIVSSLSTAYDIKINILEANIKNTKNGTVGFL...    758\n",
       "2     LQRTWALVAAAIAFYLPANLLPIMTMTSLGYVQSDTIFSGVLFLLD...    588\n",
       "3     GRRKTAVASVRLRSGNGKIDINGRSLEEYFPLEIQRRTVFAPLENL...     69\n",
       "4     KGLVHIYEGTGKGKSTAGVGLTIRCAGNGFPVVYSQFLKDGTTGEM...    370\n",
       "...                                                 ...    ...\n",
       "9995             AKCTICDFVVGEVEKYVSGNATEAQIITFLNKDCKIFG    622\n",
       "9996  EREPAKSVSNEISVAVSLDDRHDIESLIASAAHKVGRRLRKKGLEG...    797\n",
       "9997  EEDPWEAVNRPIFRFNDTLDTYALKPLAKGYQAVTPQFLEDGIHNI...    580\n",
       "9998  MAAVCGFNISVLNNVDFEGPPKRFYYVDECVAGKGVVIPNDPPVWC...    618\n",
       "9999  IDLLRERIDWTPFFNAWELRGKYPQILTESEHREEAQKLFNDANRL...    440\n",
       "\n",
       "[10000 rows x 2 columns]"
      ]
     },
     "execution_count": 15,
     "metadata": {},
     "output_type": "execute_result"
    }
   ],
   "source": [
    "df_sequence_test"
   ]
  },
  {
   "cell_type": "code",
   "execution_count": 16,
   "metadata": {},
   "outputs": [],
   "source": [
    "def convert(s):\n",
    "  \n",
    "    # initialization of string to \"\"\n",
    "    new = \"\"\n",
    "  \n",
    "\n",
    "   # traverse in the string \n",
    "    for x in s:\n",
    "        new += x \n",
    "  \n",
    "    # return string \n",
    "    return new"
   ]
  },
  {
   "cell_type": "code",
   "execution_count": 17,
   "metadata": {},
   "outputs": [],
   "source": [
    "def build_kmers(sequence, ksize):\n",
    "    kmers = []\n",
    "    n_kmers = len(sequence) - ksize + 1\n",
    "\n",
    "    for i in range(n_kmers):\n",
    "        kmer = sequence[i:i + ksize]\n",
    "        kmers.append(kmer)\n",
    "\n",
    "    return kmers"
   ]
  },
  {
   "cell_type": "code",
   "execution_count": 18,
   "metadata": {},
   "outputs": [],
   "source": [
    "#for seq in df_sequence_train['sequence']:\n",
    "#    seq = ' '.join(build_kmers(seq, 3))"
   ]
  },
  {
   "cell_type": "code",
   "execution_count": 19,
   "metadata": {},
   "outputs": [],
   "source": [
    "df_sequence_train['sequence'] = [' '.join(build_kmers(seq, 6)) for seq in df_sequence_train['sequence']]"
   ]
  },
  {
   "cell_type": "code",
   "execution_count": 20,
   "metadata": {},
   "outputs": [
    {
     "data": {
      "text/html": [
       "<div>\n",
       "<style scoped>\n",
       "    .dataframe tbody tr th:only-of-type {\n",
       "        vertical-align: middle;\n",
       "    }\n",
       "\n",
       "    .dataframe tbody tr th {\n",
       "        vertical-align: top;\n",
       "    }\n",
       "\n",
       "    .dataframe thead th {\n",
       "        text-align: right;\n",
       "    }\n",
       "</style>\n",
       "<table border=\"1\" class=\"dataframe\">\n",
       "  <thead>\n",
       "    <tr style=\"text-align: right;\">\n",
       "      <th></th>\n",
       "      <th>sequence</th>\n",
       "      <th>label</th>\n",
       "    </tr>\n",
       "  </thead>\n",
       "  <tbody>\n",
       "    <tr>\n",
       "      <th>0</th>\n",
       "      <td>APVFYF PVFYFL VFYFLG FYFLGL YFLGLF FLGLFA LGLF...</td>\n",
       "      <td>701</td>\n",
       "    </tr>\n",
       "    <tr>\n",
       "      <th>1</th>\n",
       "      <td>LEDRMA EDRMAA DRMAAQ RMAAQL MAAQLA AAQLAK AQLA...</td>\n",
       "      <td>430</td>\n",
       "    </tr>\n",
       "    <tr>\n",
       "      <th>2</th>\n",
       "      <td>TVLQRV VLQRVK LQRVKE QRVKEA RVKEAR VKEARV KEAR...</td>\n",
       "      <td>374</td>\n",
       "    </tr>\n",
       "    <tr>\n",
       "      <th>3</th>\n",
       "      <td>LLTSKL LTSKLK TSKLKC SKLKCK KLKCKC LKCKCC KCKC...</td>\n",
       "      <td>849</td>\n",
       "    </tr>\n",
       "    <tr>\n",
       "      <th>4</th>\n",
       "      <td>TWKPDE WKPDED KPDEDT PDEDTK DEDTKL EDTKLT DTKL...</td>\n",
       "      <td>104</td>\n",
       "    </tr>\n",
       "  </tbody>\n",
       "</table>\n",
       "</div>"
      ],
      "text/plain": [
       "                                            sequence  label\n",
       "0  APVFYF PVFYFL VFYFLG FYFLGL YFLGLF FLGLFA LGLF...    701\n",
       "1  LEDRMA EDRMAA DRMAAQ RMAAQL MAAQLA AAQLAK AQLA...    430\n",
       "2  TVLQRV VLQRVK LQRVKE QRVKEA RVKEAR VKEARV KEAR...    374\n",
       "3  LLTSKL LTSKLK TSKLKC SKLKCK KLKCKC LKCKCC KCKC...    849\n",
       "4  TWKPDE WKPDED KPDEDT PDEDTK DEDTKL EDTKLT DTKL...    104"
      ]
     },
     "execution_count": 20,
     "metadata": {},
     "output_type": "execute_result"
    }
   ],
   "source": [
    "df_sequence_train.head()"
   ]
  },
  {
   "cell_type": "code",
   "execution_count": 21,
   "metadata": {},
   "outputs": [],
   "source": [
    "df_sequence_val['sequence'] = [' '.join(build_kmers(seq, 6)) for seq in df_sequence_val['sequence']]"
   ]
  },
  {
   "cell_type": "code",
   "execution_count": 22,
   "metadata": {},
   "outputs": [
    {
     "data": {
      "text/html": [
       "<div>\n",
       "<style scoped>\n",
       "    .dataframe tbody tr th:only-of-type {\n",
       "        vertical-align: middle;\n",
       "    }\n",
       "\n",
       "    .dataframe tbody tr th {\n",
       "        vertical-align: top;\n",
       "    }\n",
       "\n",
       "    .dataframe thead th {\n",
       "        text-align: right;\n",
       "    }\n",
       "</style>\n",
       "<table border=\"1\" class=\"dataframe\">\n",
       "  <thead>\n",
       "    <tr style=\"text-align: right;\">\n",
       "      <th></th>\n",
       "      <th>sequence</th>\n",
       "      <th>label</th>\n",
       "    </tr>\n",
       "  </thead>\n",
       "  <tbody>\n",
       "    <tr>\n",
       "      <th>0</th>\n",
       "      <td>EKLFHA KLFHAQ LFHAQD FHAQDD HAQDDR AQDDRL QDDR...</td>\n",
       "      <td>420</td>\n",
       "    </tr>\n",
       "    <tr>\n",
       "      <th>1</th>\n",
       "      <td>PPALMD PALMDL ALMDLC LMDLCA MDLCAL DLCALA LCAL...</td>\n",
       "      <td>694</td>\n",
       "    </tr>\n",
       "    <tr>\n",
       "      <th>2</th>\n",
       "      <td>EIILAG IILAGG ILAGGC LAGGCF AGGCFW GGCFWG GCFW...</td>\n",
       "      <td>239</td>\n",
       "    </tr>\n",
       "    <tr>\n",
       "      <th>3</th>\n",
       "      <td>EVTVNV VTVNVY TVNVYN VNVYNG NVYNGT VYNGTT YNGT...</td>\n",
       "      <td>847</td>\n",
       "    </tr>\n",
       "    <tr>\n",
       "      <th>4</th>\n",
       "      <td>TGKLAG GKLAGG KLAGGN LAGGNL AGGNLA GGNLAL GNLA...</td>\n",
       "      <td>960</td>\n",
       "    </tr>\n",
       "  </tbody>\n",
       "</table>\n",
       "</div>"
      ],
      "text/plain": [
       "                                            sequence  label\n",
       "0  EKLFHA KLFHAQ LFHAQD FHAQDD HAQDDR AQDDRL QDDR...    420\n",
       "1  PPALMD PALMDL ALMDLC LMDLCA MDLCAL DLCALA LCAL...    694\n",
       "2  EIILAG IILAGG ILAGGC LAGGCF AGGCFW GGCFWG GCFW...    239\n",
       "3  EVTVNV VTVNVY TVNVYN VNVYNG NVYNGT VYNGTT YNGT...    847\n",
       "4  TGKLAG GKLAGG KLAGGN LAGGNL AGGNLA GGNLAL GNLA...    960"
      ]
     },
     "execution_count": 22,
     "metadata": {},
     "output_type": "execute_result"
    }
   ],
   "source": [
    "df_sequence_val.head()"
   ]
  },
  {
   "cell_type": "code",
   "execution_count": 23,
   "metadata": {},
   "outputs": [],
   "source": [
    "df_sequence_test['sequence'] = [' '.join(build_kmers(seq, 6)) for seq in df_sequence_test['sequence']]"
   ]
  },
  {
   "cell_type": "code",
   "execution_count": 24,
   "metadata": {},
   "outputs": [
    {
     "data": {
      "text/html": [
       "<div>\n",
       "<style scoped>\n",
       "    .dataframe tbody tr th:only-of-type {\n",
       "        vertical-align: middle;\n",
       "    }\n",
       "\n",
       "    .dataframe tbody tr th {\n",
       "        vertical-align: top;\n",
       "    }\n",
       "\n",
       "    .dataframe thead th {\n",
       "        text-align: right;\n",
       "    }\n",
       "</style>\n",
       "<table border=\"1\" class=\"dataframe\">\n",
       "  <thead>\n",
       "    <tr style=\"text-align: right;\">\n",
       "      <th></th>\n",
       "      <th>sequence</th>\n",
       "      <th>label</th>\n",
       "    </tr>\n",
       "  </thead>\n",
       "  <tbody>\n",
       "    <tr>\n",
       "      <th>0</th>\n",
       "      <td>AEKSHE EKSHEA KSHEAT SHEATP HEATPE EATPER ATPE...</td>\n",
       "      <td>204</td>\n",
       "    </tr>\n",
       "    <tr>\n",
       "      <th>1</th>\n",
       "      <td>YIVRLV IVRLVF VRLVFA RLVFAG LVFAGS VFAGST FAGS...</td>\n",
       "      <td>758</td>\n",
       "    </tr>\n",
       "    <tr>\n",
       "      <th>2</th>\n",
       "      <td>LQRTWA QRTWAL RTWALV TWALVA WALVAA ALVAAA LVAA...</td>\n",
       "      <td>588</td>\n",
       "    </tr>\n",
       "    <tr>\n",
       "      <th>3</th>\n",
       "      <td>GRRKTA RRKTAV RKTAVA KTAVAS TAVASV AVASVR VASV...</td>\n",
       "      <td>69</td>\n",
       "    </tr>\n",
       "    <tr>\n",
       "      <th>4</th>\n",
       "      <td>KGLVHI GLVHIY LVHIYE VHIYEG HIYEGT IYEGTG YEGT...</td>\n",
       "      <td>370</td>\n",
       "    </tr>\n",
       "  </tbody>\n",
       "</table>\n",
       "</div>"
      ],
      "text/plain": [
       "                                            sequence  label\n",
       "0  AEKSHE EKSHEA KSHEAT SHEATP HEATPE EATPER ATPE...    204\n",
       "1  YIVRLV IVRLVF VRLVFA RLVFAG LVFAGS VFAGST FAGS...    758\n",
       "2  LQRTWA QRTWAL RTWALV TWALVA WALVAA ALVAAA LVAA...    588\n",
       "3  GRRKTA RRKTAV RKTAVA KTAVAS TAVASV AVASVR VASV...     69\n",
       "4  KGLVHI GLVHIY LVHIYE VHIYEG HIYEGT IYEGTG YEGT...    370"
      ]
     },
     "execution_count": 24,
     "metadata": {},
     "output_type": "execute_result"
    }
   ],
   "source": [
    "df_sequence_test.head()"
   ]
  },
  {
   "cell_type": "code",
   "execution_count": 25,
   "metadata": {},
   "outputs": [],
   "source": [
    "seq_train = \"/home/mashjunior/Downloads/Pcam_data/new_sequence_data/seq_train.csv\"\n",
    "seq_val = \"/home/mashjunior/Downloads/Pcam_data/new_sequence_data/seq_val.csv\"\n",
    "seq_test = \"/home/mashjunior/Downloads/Pcam_data/new_sequence_data/seq_test.csv\"\n",
    "df_sequence_train.to_csv(seq_train, sep=',', encoding='utf-8',index=False)\n",
    "df_sequence_train.to_csv(seq_val, sep=',', encoding='utf-8',index=False)\n",
    "df_sequence_train.to_csv(seq_test, sep=',', encoding='utf-8',index=False)\n",
    "\n",
    "\n",
    "\n"
   ]
  },
  {
   "cell_type": "code",
   "execution_count": null,
   "metadata": {},
   "outputs": [],
   "source": []
  },
  {
   "cell_type": "code",
   "execution_count": 26,
   "metadata": {},
   "outputs": [],
   "source": [
    "import torch \n",
    "import argparse\n",
    "import sys\n",
    "sys.path.append(\"..\")"
   ]
  },
  {
   "cell_type": "code",
   "execution_count": 27,
   "metadata": {},
   "outputs": [],
   "source": [
    "parser = argparse.ArgumentParser()\n",
    "parser.add_argument(\n",
    "    '--embedding', \n",
    "    default='full',\n",
    "    choices=['tt', 'tr', 'full'],\n",
    "    type=str)\n",
    "parser.add_argument('--ranks', type=int, default=8)\n",
    "parser.add_argument('--d', type=int, default=3)\n",
    "parser.add_argument('--embed_dim', type=int, default=64)\n",
    "parser.add_argument('--voc_dim', default=250, type=int)\n",
    "parser.add_argument('--lr', default=5e-4)\n",
    "parser.add_argument('--gpu', default='', type=str)\n",
    "parser.add_argument('--hidden_dim', default=128, type=int)\n",
    "parser.add_argument('--n_epochs',  default=10, type=int)\n",
    "parser.add_argument('--fout',  default=\"logdir/\", type=str)\n",
    "parser.add_argument('--dropout', default=0.5, type=float)\n",
    "parser.add_argument(\n",
    "    '--dataset',\n",
    "    default='TB',\n",
    "    type=str)\n",
    "args = parser.parse_args('')"
   ]
  },
  {
   "cell_type": "code",
   "execution_count": 28,
   "metadata": {},
   "outputs": [],
   "source": [
    "if args.embedding == 'tt':\n",
    "    tt = \"tt\"\n",
    "elif args.embedding == 'tr':\n",
    "    tt = 'tr'\n",
    "else:             \n",
    "    tt = \"full\""
   ]
  },
  {
   "cell_type": "code",
   "execution_count": 29,
   "metadata": {},
   "outputs": [],
   "source": [
    "model_name = f\"{args.dataset}-dim_{args.embed_dim}-d_{args.d}-ranks_{args.ranks}-{tt}\""
   ]
  },
  {
   "cell_type": "code",
   "execution_count": 30,
   "metadata": {},
   "outputs": [],
   "source": [
    "import os\n",
    "os.environ['CUDA_DEVICE_ORDER']='PCI_BUS_ID'\n",
    "os.environ['CUDA_VISIBLE_DEVICES']=args.gpu\n",
    "import utils\n",
    "import torch\n",
    "import numpy as np\n",
    "import torch.nn.functional as F\n",
    "import torch.nn as nn\n",
    "import t3nsor as t3\n",
    "from torchtext import data\n",
    "from torchtext import datasets\n",
    "import torch.optim as optim\n",
    "from models import LSTM_Classifier\n",
    "#from utils import binary_accuracy, train, evaluate\n",
    "import pickle\n",
    "import random\n",
    "import spacy\n",
    "from spacy.cli.download import download\n",
    "random.seed(42)\n",
    "device = torch.device('cuda' if torch.cuda.is_available() else 'cpu')\n",
    "nlp = spacy.load(\"en_core_web_sm\")"
   ]
  },
  {
   "cell_type": "code",
   "execution_count": 31,
   "metadata": {},
   "outputs": [
    {
     "name": "stdout",
     "output_type": "stream",
     "text": [
      "Building the dataset\n",
      "done\n"
     ]
    },
    {
     "ename": "NameError",
     "evalue": "name 'sequence' is not defined",
     "output_type": "error",
     "traceback": [
      "\u001b[0;31m---------------------------------------------------------------------------\u001b[0m",
      "\u001b[0;31mNameError\u001b[0m                                 Traceback (most recent call last)",
      "\u001b[0;32m<ipython-input-31-e981bf433c1b>\u001b[0m in \u001b[0;36m<module>\u001b[0;34m\u001b[0m\n\u001b[1;32m     34\u001b[0m \u001b[0mprint\u001b[0m\u001b[0;34m(\u001b[0m\u001b[0;34m\"done\"\u001b[0m\u001b[0;34m)\u001b[0m\u001b[0;34m\u001b[0m\u001b[0;34m\u001b[0m\u001b[0m\n\u001b[1;32m     35\u001b[0m \u001b[0;34m\u001b[0m\u001b[0m\n\u001b[0;32m---> 36\u001b[0;31m \u001b[0msequence\u001b[0m\u001b[0;34m,\u001b[0m\u001b[0my_train_classes\u001b[0m\u001b[0;34m\u001b[0m\u001b[0;34m\u001b[0m\u001b[0m\n\u001b[0m",
      "\u001b[0;31mNameError\u001b[0m: name 'sequence' is not defined"
     ]
    }
   ],
   "source": [
    "print(\"Building the dataset\")\n",
    "seq_train = \"/home/mashjunior/Downloads/Pcam_data/new_sequence_data/seq_train.csv\"\n",
    "seq_val = \"/home/mashjunior/Downloads/Pcam_data/new_sequence_data/seq_val.csv\"\n",
    "seq_test = \"/home/mashjunior/Downloads/Pcam_data/new_sequence_data/seq_test.csv\"\n",
    "\n",
    "\n",
    "TEXT = data.Field(tokenize='spacy', fix_length=100)\n",
    "LABEL = data.LabelField(dtype=torch.float)\n",
    "fields = [('sequence', TEXT),('label', LABEL)]\n",
    "fields = [('text', TEXT),('label', LABEL)]\n",
    "fields = [('text', TEXT),('label', LABEL)]\n",
    "\n",
    "\n",
    "training_data = data.TabularDataset(\n",
    "    path=seq_train,\n",
    "    format='csv',\n",
    "    fields=fields,\n",
    "    skip_header=True,\n",
    ")\n",
    "\n",
    "validation_data = data.TabularDataset(\n",
    "    path=seq_val,\n",
    "    format='csv',\n",
    "    fields=fields,\n",
    "    skip_header=True,\n",
    ")\n",
    "\n",
    "test_data = data.TabularDataset(\n",
    "    path=seq_test,\n",
    "    format='csv',\n",
    "    fields=fields,\n",
    "    skip_header=True,\n",
    ")\n",
    "print(\"done\")\n",
    "\n",
    "sequence,y_train_classes"
   ]
  },
  {
   "cell_type": "code",
   "execution_count": null,
   "metadata": {},
   "outputs": [],
   "source": [
    "training_data"
   ]
  },
  {
   "cell_type": "code",
   "execution_count": null,
   "metadata": {},
   "outputs": [],
   "source": [
    "device"
   ]
  },
  {
   "cell_type": "code",
   "execution_count": null,
   "metadata": {},
   "outputs": [],
   "source": [
    "OUTPUT_DIM = 1000\n",
    "#train_data, test_ = datasets.IMDB.splits(TEXT, LABEL)\n",
    "#test_list = list(test_)\n",
    "#random.shuffle(test_list)\n",
    "#test_data_ = test_list[:12500]\n",
    "#val_data_ = test_list[12500:]\n",
    "#train_data = data.dataset.Dataset(train_data, fields=[('text', TEXT), ('label', LABEL)])\n",
    "valid_data = data.dataset.Dataset(val_data, fields=fields)\n",
    "test_data = data.dataset.Dataset(test_data, fields=fields)"
   ]
  },
  {
   "cell_type": "code",
   "execution_count": null,
   "metadata": {},
   "outputs": [],
   "source": [
    "def sort_key(ex):\n",
    "    return len(ex.text)"
   ]
  },
  {
   "cell_type": "code",
   "execution_count": null,
   "metadata": {},
   "outputs": [],
   "source": [
    "TEXT.build_vocab(train_data, max_size=args.voc_dim - 2)\n",
    "LABEL.build_vocab(train_data)\n",
    "\n",
    "BATCH_SIZE = 64"
   ]
  },
  {
   "cell_type": "code",
   "execution_count": null,
   "metadata": {},
   "outputs": [],
   "source": [
    "train_iterator, valid_iterator, test_iterator = data.BucketIterator.splits(\n",
    "    (train_data, valid_data, test_data),\n",
    "    batch_size=BATCH_SIZE,\n",
    "    device=device)\n",
    "\n",
    "valid_iterator.sort_key = sort_key\n",
    "test_iterator.sort_key = sort_key"
   ]
  },
  {
   "cell_type": "code",
   "execution_count": null,
   "metadata": {},
   "outputs": [],
   "source": [
    "INPUT_DIM = len(TEXT.vocab)\n",
    "EMBEDDING_DIM = args.embed_dim\n",
    "HIDDEN_DIM = args.hidden_dim\n",
    "N_LAYERS = 2\n",
    "BIDIRECTIONAL = True\n",
    "DROPOUT = args.dropout"
   ]
  },
  {
   "cell_type": "code",
   "execution_count": null,
   "metadata": {},
   "outputs": [],
   "source": [
    "actual_vocab_size = len(TEXT.vocab.stoi)"
   ]
  },
  {
   "cell_type": "code",
   "execution_count": null,
   "metadata": {},
   "outputs": [],
   "source": [
    "actual_vocab_size"
   ]
  },
  {
   "cell_type": "code",
   "execution_count": null,
   "metadata": {},
   "outputs": [],
   "source": [
    "lstm_model = LSTM_Classifier(embedding_dim=EMBEDDING_DIM,\n",
    "                             hidden_dim=HIDDEN_DIM,\n",
    "                             output_dim=OUTPUT_DIM,\n",
    "                             n_layers=N_LAYERS,\n",
    "                             bidirectional=BIDIRECTIONAL,\n",
    "                             dropout=DROPOUT)"
   ]
  },
  {
   "cell_type": "code",
   "execution_count": null,
   "metadata": {},
   "outputs": [],
   "source": [
    "if args.embedding == 'tt':\n",
    "        embed_model = t3.TTEmbedding(\n",
    "            voc_size=INPUT_DIM,\n",
    "            emb_size=EMBEDDING_DIM,\n",
    "            auto_shapes=True,\n",
    "            auto_shape_mode='mixed',\n",
    "            d=args.d,\n",
    "            tt_rank=args.ranks,\n",
    "            padding_idx=1\n",
    "        )\n",
    "        compression_rate = INPUT_DIM * EMBEDDING_DIM / embed_model.tt_matrix.dof\n",
    "elif args.embedding == 'tr':\n",
    "        embed_model = t3.TREmbedding(\n",
    "            voc_size=INPUT_DIM,\n",
    "            emb_size=EMBEDDING_DIM,\n",
    "            auto_shapes=True,\n",
    "            auto_shape_mode='mixed',\n",
    "            d=args.d,\n",
    "            tr_rank=args.ranks,\n",
    "            padding_idx=1\n",
    "        )\n",
    "        compression_rate = INPUT_DIM * EMBEDDING_DIM / embed_model.tr_matrix.dof\n",
    "else:\n",
    "    embed_model = nn.Embedding(\n",
    "        num_embeddings=INPUT_DIM,\n",
    "        embedding_dim=EMBEDDING_DIM\n",
    "    )\n",
    "    compression_rate = 1.0\n",
    "\n",
    "\n",
    "def cross_entropy_loss(logits, target):\n",
    "    labels = target.type(torch.LongTensor).to(logits.device)\n",
    "    return nn.CrossEntropyLoss()(logits, labels)"
   ]
  },
  {
   "cell_type": "code",
   "execution_count": null,
   "metadata": {},
   "outputs": [],
   "source": [
    "model = nn.Sequential(embed_model, lstm_model)"
   ]
  },
  {
   "cell_type": "code",
   "execution_count": null,
   "metadata": {},
   "outputs": [],
   "source": [
    "def binary_accuracy(preds, y):\n",
    "    \"\"\"\n",
    "    Returns accuracy per batch, i.e. if you get 8/10 right, this returns 0.8, NOT 8\n",
    "    \"\"\"\n",
    "\n",
    "    #round predictions to the closest integer\n",
    "    if len(preds.shape) == 1:\n",
    "        rounded_preds = torch.round(torch.sigmoid(preds))\n",
    "    else:\n",
    "        rounded_preds = preds.argmax(1)\n",
    "    correct = (rounded_preds == y).float() #convert into float for division\n",
    "    acc = correct.sum()/len(correct)\n",
    "    return acc"
   ]
  },
  {
   "cell_type": "code",
   "execution_count": null,
   "metadata": {},
   "outputs": [],
   "source": [
    "def train(model, iterator, optimizer, criterion):\n",
    "\n",
    "    epoch_loss = 0\n",
    "    epoch_acc = 0\n",
    "    total_len = 0\n",
    "\n",
    "    model.train()\n",
    "    \n",
    "    if isinstance(criterion, nn.CrossEntropyLoss):\n",
    "        dtype = torch.LongTensor\n",
    "    elif isinstance(criterion, nn.BCEWithLogitsLoss):\n",
    "        dtype = torch.FloatTensor\n",
    "\n",
    "    for i, batch in enumerate(iterator):\n",
    "\n",
    "        optimizer.zero_grad()\n",
    "        device = batch.text.device\n",
    "        labels = batch.label.type(dtype).to(device)\n",
    "        predictions = model(batch.text).squeeze(1)\n",
    "        loss = criterion(predictions, labels)\n",
    "        acc = binary_accuracy(predictions, labels)\n",
    "        loss.backward()\n",
    "        optimizer.step()\n",
    "\n",
    "        B = batch.label.shape[0]\n",
    "\n",
    "        epoch_loss += B * loss.item()\n",
    "        epoch_acc += B * acc.item()\n",
    "\n",
    "        total_len += B\n",
    "\n",
    "\n",
    "        if i > len(iterator):\n",
    "            break\n",
    "\n",
    "    return epoch_loss / total_len, epoch_acc / total_len"
   ]
  },
  {
   "cell_type": "code",
   "execution_count": null,
   "metadata": {},
   "outputs": [],
   "source": [
    "def evaluate(model, iterator, criterion):\n",
    "\n",
    "    epoch_loss = 0\n",
    "    epoch_acc = 0\n",
    "    total_len = 0\n",
    "\n",
    "    model.eval()\n",
    "    \n",
    "    if isinstance(criterion, nn.CrossEntropyLoss):\n",
    "        dtype = torch.LongTensor\n",
    "    elif isinstance(criterion, nn.BCEWithLogitsLoss):\n",
    "        dtype = torch.FloatTensor\n",
    "\n",
    "    with torch.no_grad():\n",
    "\n",
    "        for i, batch in enumerate(iterator):\n",
    "            \n",
    "            device = batch.text.device\n",
    "            labels = batch.label.type(dtype).to(device)\n",
    "            predictions = model(batch.text).squeeze(1)\n",
    "\n",
    "            loss = criterion(predictions, labels)\n",
    "\n",
    "            acc = binary_accuracy(predictions, labels)\n",
    "            B = batch.label.shape[0]\n",
    "classes = df_train['family_accession'].value_counts().index.tolist()\n",
    "len(classes)\n",
    "            epoch_loss += B * loss.item()\n",
    "            epoch_acc += B * acc.item()\n",
    "            total_len += B\n",
    "\n",
    "            if i > len(iterator):\n",
    "                break\n",
    "\n",
    "    return epoch_loss / total_len, epoch_acc / total_len"
   ]
  },
  {
   "cell_type": "code",
   "execution_count": null,
   "metadata": {},
   "outputs": [],
   "source": [
    "if args.dataset == 'TB':\n",
    "    criterion = nn.BCEWithLogitsLoss()\n",
    "    criterion = criterion.to(device)\n",
    "#elif args.dataset[:3] == 'sst':\n",
    "#    criterion = nn.CrossEntropyLoss()\n",
    "    #criterion = criterion.to(device)\n",
    "else:\n",
    "    raise NotImplementedError\n",
    "\n",
    "#criterion = nn.BCEWithLogitsLoss()\n",
    "#criterion = criterion.to(device)"
   ]
  },
  {
   "cell_type": "code",
   "execution_count": null,
   "metadata": {
    "scrolled": true
   },
   "outputs": [],
   "source": [
    "model = model.to(device)\n",
    "optimizer = optim.Adam(model.parameters(), lr=1e-3)\n",
    "print(model)\n",
    "N_EPOCHS = args.n_epochs"
   ]
  },
  {
   "cell_type": "code",
   "execution_count": null,
   "metadata": {},
   "outputs": [],
   "source": [
    "log = {\n",
    "    'compression_rate':compression_rate,\n",
    "    'train_loss':[], 'test_loss':[], 'valid_loss':[],\n",
    "    'train_acc':[], 'test_acc':[], 'valid_acc':[]}\n",
    "best_result = {\n",
    "    \"epoch\": 0, \"train_acc\": 0, \"valid_acc\": 0, \"train_acc\": 0}"
   ]
  },
  {
   "cell_type": "code",
   "execution_count": null,
   "metadata": {
    "scrolled": false
   },
   "outputs": [],
   "source": [
    "for epoch in range(N_EPOCHS):\n",
    "\n",
    "    train_loss, train_acc = train(model, train_iterator, optimizer, criterion)\n",
    "    test_loss, test_acc = evaluate(model, test_iterator, criterion)\n",
    "    valid_loss, valid_acc = evaluate(model, valid_iterator, criterion)\n",
    "\n",
    "    log['train_loss'].append(train_loss)\n",
    "    log['test_loss'].append(test_loss)\n",
    "    log['train_acc'].append(train_acc)\n",
    "    log['test_acc'].append(test_acc)\n",
    "    log['valid_acc'].append(valid_acc)\n",
    "    log['valid_loss'].append(valid_loss)\n",
    "\n",
    "    if best_result[\"valid_acc\"] < valid_acc:\n",
    "        best_result[\"epoch\"] = epoch\n",
    "        best_result[\"train_acc\"] = train_acc\n",
    "        best_result[\"valid_acc\"] = valid_acc\n",
    "        best_result[\"test_acc\"] = test_acc\n",
    "\n",
    "    #if args.fout is not None:\n",
    "    #    with open(args.fout+f\"{model_name}-best.pkl\", 'wb') as f:\n",
    "    #        pickle.dump(best_result, f)\n",
    "    print(f'| Epoch: {epoch+1:.2f} | Train Loss: {train_loss:.3f} | Train Acc: {train_acc*100:.2f}% | Val. Loss: {valid_loss:.3f} | Val. Acc: {valid_acc*100:.2f}% | Test Loss: {test_loss:.3f} | Test Acc: {test_acc*100:.2f}% |')\n",
    "    print (\"TEST ACCURACY:\", np.round(best_result[\"test_acc\"] * 100, 2))"
   ]
  },
  {
   "cell_type": "code",
   "execution_count": null,
   "metadata": {},
   "outputs": [],
   "source": [
    "log"
   ]
  },
  {
   "cell_type": "code",
   "execution_count": null,
   "metadata": {},
   "outputs": [],
   "source": [
    "best_result"
   ]
  },
  {
   "cell_type": "code",
   "execution_count": null,
   "metadata": {},
   "outputs": [],
   "source": []
  }
 ],
 "metadata": {
  "kernelspec": {
   "display_name": "Python 3",
   "language": "python",
   "name": "python3"
  },
  "language_info": {
   "codemirror_mode": {
    "name": "ipython",
    "version": 3
   },
   "file_extension": ".py",
   "mimetype": "text/x-python",
   "name": "python",
   "nbconvert_exporter": "python",
   "pygments_lexer": "ipython3",
   "version": "3.6.10"
  }
 },
 "nbformat": 4,
 "nbformat_minor": 5
}
