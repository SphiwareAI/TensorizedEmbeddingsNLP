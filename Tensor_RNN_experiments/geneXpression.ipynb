{
 "cells": [
  {
   "cell_type": "code",
   "execution_count": 1,
   "metadata": {},
   "outputs": [],
   "source": [
    "# Basic\n",
    "import sys\n",
    "import numpy as np\n",
    "from datetime import datetime\n",
    "\n",
    "# Keras Model\n",
    "from keras.layers import Input, Dense\n",
    "from keras.models import Model\n",
    "from keras.regularizers import l2\n",
    "from tensorflow.keras.optimizers import Adam\n",
    "from sklearn.metrics import average_precision_score, roc_auc_score, accuracy_score\n",
    "\n",
    "# TT Layer\n",
    "from TTLayer import TT_Layer\n",
    "\n",
    "# misc\n",
    "from keras.utils.np_utils import to_categorical\n",
    "\n",
    "\n",
    "np.random.seed(11111986)"
   ]
  },
  {
   "cell_type": "code",
   "execution_count": 2,
   "metadata": {},
   "outputs": [
    {
     "name": "stdout",
     "output_type": "stream",
     "text": [
      "Training data has shape = (50, 4026)\n",
      "Valid data has shape = (12, 4026)\n"
     ]
    }
   ],
   "source": [
    "# choose one data set:\n",
    "#data_name = 'prostate'\n",
    "data_name = 'lymphoma'\n",
    "# data_name = 'mice'\n",
    "# data_name = 'yeast'\n",
    "\n",
    "data_path = './Datasets/GenExpress/'\n",
    "X_train = np.loadtxt(data_path + data_name + '/' + data_name + '_train.data.gz')\n",
    "Y_train = np.loadtxt(data_path + data_name + '/' + data_name + '_train.labels.gz')\n",
    "X_valid = np.loadtxt(data_path + data_name + '/' + data_name + '_valid.data.gz')\n",
    "Y_valid = np.loadtxt(data_path + data_name + '/' + data_name + '_valid.labels.gz')\n",
    "\n",
    "\n",
    "n, d = X_train.shape\n",
    "print('Training data has shape = ' + str(X_train.shape))\n",
    "print('Valid data has shape = ' + str(X_valid.shape))\n",
    "\n",
    "# Additional columns so that the TT can factorize the feature dimension\n",
    "new_dim = None\n",
    "if data_name == 'prostate':\n",
    "    new_dim = 6300\n",
    "elif data_name == 'lymphoma':\n",
    "    new_dim = 4096\n",
    "elif data_name == 'mice':\n",
    "    new_dim = 150\n",
    "elif data_name == 'yeast':\n",
    "    new_dim = 120"
   ]
  },
  {
   "cell_type": "code",
   "execution_count": 3,
   "metadata": {},
   "outputs": [],
   "source": [
    "X_train = np.concatenate([X_train, np.zeros((X_train.shape[0], new_dim - d))], axis=1)\n",
    "col_shuffle = np.random.choice(range(new_dim), new_dim, False)\n",
    "X_train = X_train[:, col_shuffle]\n",
    "X_valid = np.concatenate([X_valid, np.zeros((X_valid.shape[0], new_dim - d))], axis=1)\n",
    "X_valid = X_valid[:, col_shuffle]"
   ]
  },
  {
   "cell_type": "code",
   "execution_count": 4,
   "metadata": {},
   "outputs": [
    {
     "data": {
      "text/plain": [
       "array([[ 0.87685906,  0.0027742 ,  0.        , ..., -0.69961542,\n",
       "         0.47103395,  0.22129542],\n",
       "       [ 0.00515171, -0.12848889,  0.        , ...,  1.64224898,\n",
       "         0.84040542,  0.32811648],\n",
       "       [-0.92978768,  1.33690788,  0.        , ...,  0.31076867,\n",
       "        -0.76131706,  0.11166704],\n",
       "       ...,\n",
       "       [-0.56006992,  0.43160397,  0.        , ...,  0.90325375,\n",
       "        -0.54797633,  0.40741681],\n",
       "       [ 0.08428151,  0.35179755,  0.        , ..., -1.1125008 ,\n",
       "        -0.29587287,  0.16876026],\n",
       "       [-1.12444027, -1.1831339 ,  0.        , ...,  0.65593313,\n",
       "         0.7341913 , -0.57663307]])"
      ]
     },
     "execution_count": 4,
     "metadata": {},
     "output_type": "execute_result"
    }
   ],
   "source": [
    "X_train"
   ]
  },
  {
   "cell_type": "code",
   "execution_count": 5,
   "metadata": {},
   "outputs": [
    {
     "name": "stderr",
     "output_type": "stream",
     "text": [
      "/tmp/ipykernel_3543663/1832389541.py:8: RuntimeWarning: invalid value encountered in true_divide\n",
      "  X_train = (X_train - X_train.min(axis=0)) / (X_train.max(axis=0) - X_train.min(axis=0))\n",
      "/tmp/ipykernel_3543663/1832389541.py:9: RuntimeWarning: invalid value encountered in true_divide\n",
      "  X_valid = (X_valid - X_valid.min(axis=0)) / (X_valid.max(axis=0) - X_valid.min(axis=0))\n"
     ]
    }
   ],
   "source": [
    "normalization = 1\n",
    "if normalization == 0:\n",
    "    X_train = (X_train - X_train.mean(axis=0)) / X_train.std(axis=0)\n",
    "    X_train[np.where(np.isnan(X_train))] = 0.\n",
    "    X_valid = (X_valid - X_valid.mean(axis=0)) / X_valid.std(axis=0)\n",
    "    X_valid[np.where(np.isnan(X_valid))] = 0.\n",
    "elif normalization == 1:\n",
    "    X_train = (X_train - X_train.min(axis=0)) / (X_train.max(axis=0) - X_train.min(axis=0))\n",
    "    X_valid = (X_valid - X_valid.min(axis=0)) / (X_valid.max(axis=0) - X_valid.min(axis=0))\n",
    "    X_train[np.where(np.isnan(X_train))] = 0.\n",
    "    X_valid[np.where(np.isnan(X_valid))] = 0."
   ]
  },
  {
   "cell_type": "code",
   "execution_count": 6,
   "metadata": {},
   "outputs": [
    {
     "data": {
      "text/plain": [
       "array([0., 2., 0., 1., 0., 0., 0., 2., 0., 0., 2., 2., 0., 0., 0., 1., 0.,\n",
       "       1., 1., 0., 0., 0., 0., 0., 1., 0., 2., 2., 1., 0., 0., 0., 0., 0.,\n",
       "       0., 0., 0., 0., 0., 0., 0., 2., 2., 0., 0., 0., 0., 2., 0., 0.])"
      ]
     },
     "execution_count": 6,
     "metadata": {},
     "output_type": "execute_result"
    }
   ],
   "source": [
    "Y_train"
   ]
  },
  {
   "cell_type": "code",
   "execution_count": 7,
   "metadata": {},
   "outputs": [],
   "source": [
    "if data_name == 'lymphoma':\n",
    "    Y_train = to_categorical(Y_train.astype('int32'))\n",
    "    Y_valid = to_categorical(Y_valid.astype('int32'))\n",
    "\n",
    "# Hyper-parameters\n",
    "if data_name == 'prostate':\n",
    "    alpha = 0.1\n",
    "    tt_alpha = 5e-4\n",
    "    nb_epoch = 200\n",
    "    batch_size = 10\n",
    "    lr = 1e-4\n",
    "    tt_input_shape = [7, 9, 10, 10]\n",
    "    tt_output_shape = [5, 5, 5, 5]\n",
    "    tt_ranks = [1, 15, 15, 15, 1]\n",
    "elif data_name == 'lymphoma':\n",
    "    alpha = 0.1\n",
    "    tt_alpha = 5e-4\n",
    "    nb_epoch = 200\n",
    "    batch_size = 10\n",
    "    lr = 1e-4\n",
    "    tt_input_shape = [8, 8, 8, 8]\n",
    "    tt_output_shape = [5, 5, 5, 5]\n",
    "    tt_ranks = [1, 15, 15, 15, 1]\n",
    "elif data_name == 'mice':\n",
    "    alpha = 0.1\n",
    "    tt_alpha = 5e-4\n",
    "    nb_epoch = 100\n",
    "    batch_size = 7\n",
    "    lr = 1e-4\n",
    "    tt_input_shape = [5, 6, 5]\n",
    "    tt_output_shape = [15, 15, 15]\n",
    "    tt_ranks = [1, 10, 10, 1]\n",
    "elif data_name == 'yeast':\n",
    "    alpha = 0.001\n",
    "    tt_alpha = 0\n",
    "    nb_epoch = 500\n",
    "    batch_size = 5\n",
    "    lr = 1e-4\n",
    "    tt_input_shape = [4, 5, 6]\n",
    "    tt_output_shape = [5, 5, 5]\n",
    "    tt_ranks = [1, 10, 10, 1]"
   ]
  },
  {
   "cell_type": "code",
   "execution_count": 8,
   "metadata": {
    "scrolled": true
   },
   "outputs": [
    {
     "name": "stderr",
     "output_type": "stream",
     "text": [
      "2022-09-15 03:40:06.079810: I tensorflow/core/platform/cpu_feature_guard.cc:151] This TensorFlow binary is optimized with oneAPI Deep Neural Network Library (oneDNN) to use the following CPU instructions in performance-critical operations:  SSE4.1 SSE4.2 AVX\n",
      "To enable them in other operations, rebuild TensorFlow with the appropriate compiler flags.\n",
      "2022-09-15 03:40:06.113619: I tensorflow/core/common_runtime/process_util.cc:146] Creating new thread pool with default inter op setting: 2. Tune using inter_op_parallelism_threads for best performance.\n"
     ]
    },
    {
     "name": "stdout",
     "output_type": "stream",
     "text": [
      "iter = 0\n",
      "4/4 - 2s - loss: 108.9337 - accuracy: 0.5250 - val_loss: 106.8284 - val_accuracy: 0.7000 - 2s/epoch - 501ms/step\n",
      "iter = 10\n",
      "4/4 - 0s - loss: 78.7626 - accuracy: 0.9750 - val_loss: 77.1241 - val_accuracy: 1.0000 - 137ms/epoch - 34ms/step\n",
      "iter = 20\n",
      "4/4 - 0s - loss: 55.7075 - accuracy: 1.0000 - val_loss: 54.5288 - val_accuracy: 1.0000 - 158ms/epoch - 39ms/step\n",
      "iter = 30\n",
      "4/4 - 0s - loss: 38.9089 - accuracy: 1.0000 - val_loss: 38.0660 - val_accuracy: 1.0000 - 137ms/epoch - 34ms/step\n",
      "iter = 40\n",
      "4/4 - 0s - loss: 26.8659 - accuracy: 1.0000 - val_loss: 26.2937 - val_accuracy: 1.0000 - 217ms/epoch - 54ms/step\n",
      "iter = 50\n",
      "4/4 - 0s - loss: 18.3572 - accuracy: 1.0000 - val_loss: 17.9449 - val_accuracy: 1.0000 - 194ms/epoch - 48ms/step\n",
      "iter = 60\n",
      "4/4 - 0s - loss: 12.4237 - accuracy: 1.0000 - val_loss: 12.1414 - val_accuracy: 1.0000 - 194ms/epoch - 48ms/step\n",
      "iter = 70\n",
      "4/4 - 0s - loss: 8.3561 - accuracy: 1.0000 - val_loss: 8.1823 - val_accuracy: 1.0000 - 152ms/epoch - 38ms/step\n",
      "iter = 80\n",
      "4/4 - 0s - loss: 5.6072 - accuracy: 1.0000 - val_loss: 5.5110 - val_accuracy: 1.0000 - 205ms/epoch - 51ms/step\n",
      "iter = 90\n",
      "4/4 - 0s - loss: 3.7850 - accuracy: 1.0000 - val_loss: 3.7442 - val_accuracy: 1.0000 - 108ms/epoch - 27ms/step\n",
      "iter = 100\n",
      "4/4 - 0s - loss: 2.5988 - accuracy: 1.0000 - val_loss: 2.5917 - val_accuracy: 1.0000 - 187ms/epoch - 47ms/step\n",
      "iter = 110\n",
      "4/4 - 0s - loss: 1.8365 - accuracy: 1.0000 - val_loss: 1.8409 - val_accuracy: 1.0000 - 150ms/epoch - 38ms/step\n",
      "iter = 120\n",
      "4/4 - 0s - loss: 1.3584 - accuracy: 1.0000 - val_loss: 1.3669 - val_accuracy: 1.0000 - 174ms/epoch - 44ms/step\n",
      "iter = 130\n",
      "4/4 - 0s - loss: 1.0608 - accuracy: 1.0000 - val_loss: 1.1151 - val_accuracy: 1.0000 - 241ms/epoch - 60ms/step\n",
      "iter = 140\n",
      "4/4 - 0s - loss: 0.8779 - accuracy: 1.0000 - val_loss: 0.8982 - val_accuracy: 1.0000 - 110ms/epoch - 27ms/step\n",
      "iter = 150\n",
      "4/4 - 0s - loss: 0.7688 - accuracy: 1.0000 - val_loss: 0.8028 - val_accuracy: 1.0000 - 229ms/epoch - 57ms/step\n",
      "iter = 160\n",
      "4/4 - 0s - loss: 0.7025 - accuracy: 1.0000 - val_loss: 0.7189 - val_accuracy: 1.0000 - 194ms/epoch - 49ms/step\n",
      "iter = 170\n",
      "4/4 - 0s - loss: 0.6611 - accuracy: 1.0000 - val_loss: 0.6906 - val_accuracy: 1.0000 - 128ms/epoch - 32ms/step\n",
      "iter = 180\n",
      "4/4 - 0s - loss: 0.6347 - accuracy: 1.0000 - val_loss: 0.6711 - val_accuracy: 1.0000 - 158ms/epoch - 39ms/step\n",
      "iter = 190\n",
      "4/4 - 0s - loss: 0.6233 - accuracy: 1.0000 - val_loss: 0.6627 - val_accuracy: 1.0000 - 207ms/epoch - 52ms/step\n"
     ]
    }
   ],
   "source": [
    "# Model with fully connected layer\n",
    "if data_name == 'prostate':\n",
    "    input = Input(shape=(new_dim,))\n",
    "    h = Dense(np.prod(tt_output_shape), activation='sigmoid', kernel_regularizer=l2(alpha))(input)\n",
    "    output = Dense(1, activation='sigmoid', kernel_regularizer=l2(alpha))(h)\n",
    "    model_full = Model(input, output)\n",
    "    model_full.compile(optimizer=Adam(lr), loss='binary_crossentropy', metrics=['accuracy'])\n",
    "elif data_name == 'lymphoma':\n",
    "    input = Input(shape=(new_dim,))\n",
    "    h = Dense(np.prod(tt_output_shape), activation='sigmoid', kernel_regularizer=l2(alpha))(input)\n",
    "    output = Dense(Y_train.shape[1], activation='softmax', kernel_regularizer=l2(alpha))(h)\n",
    "    model_full = Model(input, output)\n",
    "    model_full.compile(optimizer=Adam(lr), loss='categorical_crossentropy', metrics=['accuracy'])\n",
    "elif data_name in ['mice', 'yeast']:\n",
    "    input = Input(shape=(new_dim,))\n",
    "    h = Dense(np.prod(tt_output_shape), activation='sigmoid', kernel_regularizer=l2(alpha))(input)\n",
    "    output = Dense(Y_train.shape[1], activation='linear', kernel_regularizer=l2(alpha))(h)\n",
    "    model_full = Model(input, output)\n",
    "    model_full.compile(optimizer=Adam(lr), loss='mse')\n",
    "\n",
    "start_full = datetime.now()\n",
    "for l in range(nb_epoch):\n",
    "    if_print = l % 10 == 0\n",
    "    if if_print:\n",
    "        print('iter = ' + str(l))\n",
    "        verbose = 2\n",
    "    else:\n",
    "        verbose = 0\n",
    "    history = model_full.fit(x=X_train, y=Y_train, verbose=verbose, epochs=1, batch_size=batch_size,\n",
    "                             validation_split=0.2)\n",
    "stop_full = datetime.now()"
   ]
  },
  {
   "cell_type": "code",
   "execution_count": 9,
   "metadata": {},
   "outputs": [
    {
     "name": "stdout",
     "output_type": "stream",
     "text": [
      "Compression factor = 19200 / 2560000 = 0.0075\n",
      "iter = 0\n",
      "4/4 - 1s - loss: 2.1185 - accuracy: 0.1500 - val_loss: 2.0534 - val_accuracy: 0.0000e+00 - 689ms/epoch - 172ms/step\n",
      "iter = 10\n",
      "4/4 - 0s - loss: 1.4484 - accuracy: 0.7000 - val_loss: 1.4478 - val_accuracy: 0.7000 - 208ms/epoch - 52ms/step\n",
      "iter = 20\n",
      "4/4 - 0s - loss: 1.4180 - accuracy: 0.7000 - val_loss: 1.4192 - val_accuracy: 0.7000 - 116ms/epoch - 29ms/step\n",
      "iter = 30\n",
      "4/4 - 0s - loss: 1.4074 - accuracy: 0.7000 - val_loss: 1.4034 - val_accuracy: 0.7000 - 64ms/epoch - 16ms/step\n",
      "iter = 40\n",
      "4/4 - 0s - loss: 1.3949 - accuracy: 0.7000 - val_loss: 1.3916 - val_accuracy: 0.7000 - 114ms/epoch - 29ms/step\n",
      "iter = 50\n",
      "4/4 - 0s - loss: 1.3839 - accuracy: 0.7000 - val_loss: 1.3828 - val_accuracy: 0.7000 - 132ms/epoch - 33ms/step\n",
      "iter = 60\n",
      "4/4 - 0s - loss: 1.3699 - accuracy: 0.7000 - val_loss: 1.3708 - val_accuracy: 0.7000 - 167ms/epoch - 42ms/step\n",
      "iter = 70\n",
      "4/4 - 0s - loss: 1.3572 - accuracy: 0.7000 - val_loss: 1.3549 - val_accuracy: 0.7000 - 85ms/epoch - 21ms/step\n",
      "iter = 80\n",
      "4/4 - 0s - loss: 1.3440 - accuracy: 0.7000 - val_loss: 1.3410 - val_accuracy: 0.7000 - 144ms/epoch - 36ms/step\n",
      "iter = 90\n",
      "4/4 - 0s - loss: 1.3313 - accuracy: 0.7000 - val_loss: 1.3306 - val_accuracy: 0.7000 - 110ms/epoch - 27ms/step\n",
      "iter = 100\n",
      "4/4 - 0s - loss: 1.3196 - accuracy: 0.7000 - val_loss: 1.3169 - val_accuracy: 0.7000 - 136ms/epoch - 34ms/step\n",
      "iter = 110\n",
      "4/4 - 0s - loss: 1.3072 - accuracy: 0.7000 - val_loss: 1.3055 - val_accuracy: 0.7000 - 121ms/epoch - 30ms/step\n",
      "iter = 120\n",
      "4/4 - 0s - loss: 1.2945 - accuracy: 0.7000 - val_loss: 1.2946 - val_accuracy: 0.7000 - 82ms/epoch - 20ms/step\n",
      "iter = 130\n",
      "4/4 - 0s - loss: 1.2827 - accuracy: 0.7000 - val_loss: 1.2833 - val_accuracy: 0.7000 - 154ms/epoch - 38ms/step\n",
      "iter = 140\n",
      "4/4 - 0s - loss: 1.2719 - accuracy: 0.7000 - val_loss: 1.2675 - val_accuracy: 0.7000 - 93ms/epoch - 23ms/step\n",
      "iter = 150\n",
      "4/4 - 0s - loss: 1.2596 - accuracy: 0.7000 - val_loss: 1.2594 - val_accuracy: 0.7000 - 145ms/epoch - 36ms/step\n",
      "iter = 160\n",
      "4/4 - 0s - loss: 1.2476 - accuracy: 0.7000 - val_loss: 1.2462 - val_accuracy: 0.7000 - 194ms/epoch - 49ms/step\n",
      "iter = 170\n",
      "4/4 - 0s - loss: 1.2371 - accuracy: 0.7000 - val_loss: 1.2366 - val_accuracy: 0.7000 - 128ms/epoch - 32ms/step\n",
      "iter = 180\n",
      "4/4 - 0s - loss: 1.2253 - accuracy: 0.7000 - val_loss: 1.2224 - val_accuracy: 0.7000 - 80ms/epoch - 20ms/step\n",
      "iter = 190\n",
      "4/4 - 0s - loss: 1.2159 - accuracy: 0.7000 - val_loss: 1.2104 - val_accuracy: 0.7000 - 98ms/epoch - 25ms/step\n"
     ]
    }
   ],
   "source": [
    "# Model with TT layer\n",
    "from keras.layers import Dropout\n",
    "if data_name == 'prostate':\n",
    "    input_TT = Input(shape=(new_dim,))\n",
    "    tt = TT_Layer(tt_input_shape, tt_output_shape, kernel_regularizer=l2(tt_alpha), tt_ranks=tt_ranks, activation='sigmoid')\n",
    "    h_TT = tt(input_TT)\n",
    "    h_TT = Dropout(0.5)(h_TT)\n",
    "    output_TT = Dense(1, activation='sigmoid', kernel_regularizer=l2(alpha))(h_TT)\n",
    "    model_TT = Model(input_TT, output_TT)\n",
    "    model_TT.compile(optimizer=Adam(lr), loss='binary_crossentropy', metrics=['accuracy'])\n",
    "elif data_name == 'lymphoma':\n",
    "    input_TT = Input(shape=(new_dim,))\n",
    "    tt = TT_Layer(tt_input_shape, tt_output_shape, kernel_regularizer=l2(tt_alpha),\n",
    "                  tt_ranks=tt_ranks, activation='sigmoid')\n",
    "    h_TT = tt(input_TT)\n",
    "    output_TT = Dense(Y_train.shape[1], activation='softmax', kernel_regularizer=l2(alpha))(h_TT)\n",
    "    model_TT = Model(input_TT, output_TT)\n",
    "    model_TT.compile(optimizer=Adam(lr), loss='categorical_crossentropy', metrics=['accuracy'])\n",
    "elif data_name in ['mice', 'yeast']:\n",
    "    input_TT = Input(shape=(new_dim,))\n",
    "    tt = TT_Layer(tt_input_shape=tt_input_shape, tt_output_shape=tt_output_shape, kernel_regularizer=l2(tt_alpha),\n",
    "                  tt_ranks=tt_ranks, bias=True, activation='sigmoid', ortho_init=True)\n",
    "    h_TT = tt(input_TT)\n",
    "    output_TT = Dense(output_dim=Y_train.shape[1], activation='linear', kernel_regularizer=l2(alpha))(h_TT)\n",
    "    model_TT = Model(input=input_TT, output=output_TT)\n",
    "    model_TT.compile(optimizer=Adam(lr), loss='mse')\n",
    "\n",
    "\n",
    "start_TT = datetime.now()\n",
    "for l in range(nb_epoch):\n",
    "    if_print = l % 10 == 0\n",
    "    if if_print:\n",
    "        print('iter = ' + str(l))\n",
    "        verbose = 2\n",
    "    else:\n",
    "        verbose = 0\n",
    "    history = model_TT.fit(x=X_train, y=Y_train, verbose=verbose, epochs=1, batch_size=batch_size,\n",
    "                           validation_split=0.2)\n",
    "\n",
    "stop_TT = datetime.now()"
   ]
  },
  {
   "cell_type": "code",
   "execution_count": 10,
   "metadata": {},
   "outputs": [
    {
     "name": "stdout",
     "output_type": "stream",
     "text": [
      "#######################################################\n",
      "Results of the model with fully connected layer\n",
      "Time consumed: 0:00:48.576510\n",
      "Accuracy: 0.9166666666666666\n",
      "AUROC: 1.0\n",
      "AUPRC: 1.0\n",
      "#######################################################\n",
      "Results of the model with TT layer\n",
      "Time consumed: 0:00:35.793167\n",
      "Parameter compression factor: 0.0075\n",
      "Accuracy: 0.5833333333333334\n",
      "AUROC: 0.8292768959435626\n",
      "AUPRC: 0.7338624338624338\n"
     ]
    }
   ],
   "source": [
    "if data_name not in ['mice', 'yeast']:\n",
    "    print('#######################################################')\n",
    "    Y_pred_full =  model_full.predict(X_valid)\n",
    "    print('Results of the model with fully connected layer')\n",
    "    print('Time consumed: ' + str(stop_full - start_full))\n",
    "    print('Accuracy: ' + str(accuracy_score(Y_valid, np.round(Y_pred_full))))\n",
    "    print('AUROC: ' + str(roc_auc_score(Y_valid, Y_pred_full)))\n",
    "    print('AUPRC: ' + str(average_precision_score(Y_valid, Y_pred_full)))\n",
    "    print('#######################################################')\n",
    "    Y_pred_TT = model_TT.predict(X_valid)\n",
    "    print('Results of the model with TT layer')\n",
    "    print('Time consumed: ' + str(stop_TT - start_TT))\n",
    "    print('Parameter compression factor: ' + str(tt.compress_factor))\n",
    "    print('Accuracy: ' + str(accuracy_score(Y_valid, np.round(Y_pred_TT))))\n",
    "    print('AUROC: ' + str(roc_auc_score(Y_valid, Y_pred_TT)))\n",
    "    print('AUPRC: ' + str(average_precision_score(Y_valid, Y_pred_TT)))\n",
    "else:\n",
    "    print('#######################################################') \n",
    "    print(Y_pred_full = model_full.predict(X_valid))\n",
    "    print('Results of the model with fully connected layer')\n",
    "    print('Time consumed: ' + str(stop_full - start_full))\n",
    "    print('MSE: ' + str(((Y_valid - Y_pred_full)**2).mean()))\n",
    "\n",
    "    print('#######################################################')\n",
    "    Y_pred_TT = model_TT.predict(X_valid)\n",
    "    print('Results of the model with TT layer')\n",
    "    print('Time consumed: ' + str(stop_TT - start_TT))\n",
    "    print('Parameter compression factor: ' + str(tt.compress_factor))\n",
    "    print('MSE: ' + str(((Y_valid - Y_pred_TT)**2).mean()))"
   ]
  },
  {
   "cell_type": "code",
   "execution_count": null,
   "metadata": {},
   "outputs": [],
   "source": []
  }
 ],
 "metadata": {
  "kernelspec": {
   "display_name": "Python james_tensor",
   "language": "python",
   "name": "james_tensor"
  },
  "language_info": {
   "codemirror_mode": {
    "name": "ipython",
    "version": 3
   },
   "file_extension": ".py",
   "mimetype": "text/x-python",
   "name": "python",
   "nbconvert_exporter": "python",
   "pygments_lexer": "ipython3",
   "version": "3.8.13"
  }
 },
 "nbformat": 4,
 "nbformat_minor": 2
}
